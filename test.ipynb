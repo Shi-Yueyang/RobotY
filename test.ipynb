{
 "cells": [
  {
   "cell_type": "code",
   "execution_count": null,
   "metadata": {},
   "outputs": [
    {
     "ename": "",
     "evalue": "",
     "output_type": "error",
     "traceback": [
      "\u001b[1;31mRunning cells with 'qt (Python 3.9.16)' requires the ipykernel package.\n",
      "\u001b[1;31mRun the following command to install 'ipykernel' into the Python environment. \n",
      "\u001b[1;31mCommand: 'conda install -p c:\\myPrograms\\anaconda\\envs\\qt ipykernel --update-deps --force-reinstall'"
     ]
    }
   ],
   "source": [
    "import numpy as np\n",
    "bluebury=np.array([-259.313,4.94,178.138])\n",
    "angle = 60*np.pi\n",
    "l1=10\n",
    "p1 = [bluebury[0]+l1*np.cos(angle), bluebury[1],bluebury[2]*l1*np.sin(angle)]\n",
    "p2 = [bluebury[0]-l1*np.cos(angle), bluebury[1],bluebury[2]-l1*np.sin(angle)]\n",
    "print('ik ',*p1,*p2)"
   ]
  },
  {
   "cell_type": "code",
   "execution_count": null,
   "metadata": {},
   "outputs": [],
   "source": []
  }
 ],
 "metadata": {
  "kernelspec": {
   "display_name": "Python 3",
   "language": "python",
   "name": "python3"
  },
  "language_info": {
   "name": "python",
   "version": "3.9.16"
  }
 },
 "nbformat": 4,
 "nbformat_minor": 2
}
